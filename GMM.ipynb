{
 "cells": [
  {
   "cell_type": "code",
   "execution_count": null,
   "metadata": {},
   "outputs": [],
   "source": [
    "# Yerbol Aussat (SID: 20698564)\n",
    "# CS698, Assignment 4\n",
    "# Gaussian Mixture Model\n",
    "import numpy as np\n",
    "from sklearn.decomposition import PCA\n",
    "import math"
   ]
  },
  {
   "cell_type": "code",
   "execution_count": null,
   "metadata": {},
   "outputs": [],
   "source": [
    "# importing and normalizing training data\n",
    "trn_data = np.genfromtxt('/Users/yerbol/Desktop/CS698/assignments/hw2/MNIST_X_train.csv', delimiter=',')\n",
    "trn_data = trn_data[:45000]\n",
    "\n",
    "# row_sums = trn_data.sum(axis=1)\n",
    "# trn_data = trn_data / row_sums[:, np.newaxis]\n",
    "\n",
    "print trn_data.shape"
   ]
  },
  {
   "cell_type": "code",
   "execution_count": null,
   "metadata": {},
   "outputs": [],
   "source": [
    "pca = PCA(n_components=100)\n",
    "trn_data = pca.fit_transform(trn_data)\n",
    "print trn_data.shape"
   ]
  },
  {
   "cell_type": "code",
   "execution_count": null,
   "metadata": {},
   "outputs": [],
   "source": [
    "# importing and normalizing training labels\n",
    "trn_labels = np.genfromtxt('/Users/yerbol/Desktop/CS698/assignments/hw2/MNIST_y_train.csv', delimiter=',')\n",
    "trn_labels = trn_labels[:45000]\n",
    "print trn_labels.shape"
   ]
  },
  {
   "cell_type": "code",
   "execution_count": null,
   "metadata": {},
   "outputs": [],
   "source": [
    "# importing and normalizing test data\n",
    "test_data = np.genfromtxt('/Users/yerbol/Desktop/CS698/assignments/hw2/MNIST_X_test.csv', delimiter=',')\n",
    "# row_sums = test_data.sum(axis=1)\n",
    "# test_data = test_data / row_sums[:, np.newaxis]\n",
    "print test_data.shape\n",
    "pca = PCA(n_components=100)\n",
    "test_data = pca.fit_transform(test_data)\n",
    "print test_data.shape\n",
    "\n"
   ]
  },
  {
   "cell_type": "code",
   "execution_count": null,
   "metadata": {},
   "outputs": [],
   "source": [
    "# importing and normalizing test labels\n",
    "test_labels = np.genfromtxt('/Users/yerbol/Desktop/CS698/assignments/hw2/MNIST_y_test.csv', delimiter=',')"
   ]
  },
  {
   "cell_type": "code",
   "execution_count": null,
   "metadata": {},
   "outputs": [],
   "source": [
    "print trn_data.shape\n",
    "print trn_labels.shape\n",
    "print test_data.shape\n",
    "print test_labels.shape\n"
   ]
  },
  {
   "cell_type": "code",
   "execution_count": null,
   "metadata": {},
   "outputs": [],
   "source": [
    "summ = 0\n",
    "X_train_class = []\n",
    "for c in range(10):\n",
    "    y_c = np.where(trn_labels == c)\n",
    "    trn_data_c = trn_data[y_c]\n",
    "    X_train_class.append(trn_data_c)\n",
    "    print X_train_class[c].shape"
   ]
  },
  {
   "cell_type": "code",
   "execution_count": null,
   "metadata": {},
   "outputs": [],
   "source": [
    "def GMM(X, K):\n",
    "    n = X.shape[0]\n",
    "    d = X.shape[1]\n",
    "\n",
    "    max_iter = 50 # maximum number of iterations\n",
    "    \n",
    "    ###### initialization of parameters:    \n",
    "    \n",
    "    # initializing means to random elements from X\n",
    "    mu = X[np.random.choice(n, K), :].reshape((K,d)) # ~R^k*d\n",
    "    S = np.random.rand(K, d) # ~R^k*d\n",
    "    S = S + 1.1\n",
    "    pi = np.random.rand(K)   \n",
    "    pi = pi/np.sum(pi) # ~R^1*k \n",
    "    \n",
    "    ###### Initializing log responsibility and responsibility matrices\n",
    "    log_r = np.ndarray([n, K]) # ~R^n*k\n",
    "    r = np.ndarray([n, K]) # ~R^n*k\n",
    "\n",
    "    ###### list of log likelihoods\n",
    "    l = []\n",
    "    \n",
    "    ###### Expectation Maximization        \n",
    "    for iteration in range(max_iter):\n",
    "\n",
    "        print \"\\n\\n  iteration\", iteration, \": \"\n",
    "        \n",
    "        #### E-step (guessting hidden variables)\n",
    "        # filling out log_r matrix for each Gaussian mode K (K styles of writing the digit)\n",
    "        for k in range(K):    \n",
    "            log_r[:,k] = np.log(pi[k]) - 0.5*np.sum(np.log(S[k,:])) - 0.5 * np.multiply((X - mu[k]), (X - mu[k])).dot(1.0/S[k,:])\n",
    "              #R^n*1    R^n*1 (broadcasting)  R^n*1(broadcasting)                             R^n*d                 R^d*1\n",
    "        \n",
    "        \n",
    "        # Shifting all logs by maximum among k's (maximum in erach row)\n",
    "        log_r_max_i = log_r.max(axis = 1).reshape(n,1)\n",
    "        log_r = log_r - log_r_max_i\n",
    "        \n",
    "        \n",
    "        # matrix r with powers shifted by maximum power among k's\n",
    "        r = np.exp(log_r)\n",
    "        \n",
    "        # normalize each row of r the sum of the row \n",
    "        r_i = np.sum(r, 1).reshape(n,1)\n",
    "        r = np.divide(r, r_i) # elementwise division\n",
    "\n",
    "        # negative log likelihood\n",
    "        l_iter = -np.sum(np.log(r_i))\n",
    "        l.append(l_iter)\n",
    "        print('   log likelihood', l_iter)\n",
    "        print(\"   difference\", np.abs(l[iteration] - l[iteration-1]))\n",
    "    \n",
    "        if (iteration > 1 and np.abs(l[iteration] - l[iteration-1]) <= 10**-5 * np.abs(l[iteration])):\n",
    "            break\n",
    "\n",
    "        #### M-step (updating parameters of the model)\n",
    "        r_k = np.sum(r, 0)\n",
    "        pi = r_k / n\n",
    "        mu = np.divide(r.T.dot(X), r_k.reshape(K,1))\n",
    "        \n",
    "        for k in range(K):\n",
    "            for j in range(d):\n",
    "                rx_sq = 0\n",
    "                for i in range(n):\n",
    "                    rx_sq += r[i,k] * X[i,j]**2\n",
    "                S[k,j] = rx_sq/r_k[k] - (mu[k,j]**2) + 0.000001\n",
    "                \n",
    "    return mu, S, pi"
   ]
  },
  {
   "cell_type": "code",
   "execution_count": null,
   "metadata": {},
   "outputs": [],
   "source": [
    "K = 5\n",
    "GMM(X_train_class[0], K) # TEST"
   ]
  },
  {
   "cell_type": "code",
   "execution_count": null,
   "metadata": {},
   "outputs": [],
   "source": []
  },
  {
   "cell_type": "code",
   "execution_count": null,
   "metadata": {},
   "outputs": [],
   "source": [
    "# Probability of each class\n",
    "num_samples = len(trn_labels)\n",
    "prob_class = []\n",
    "for c in range(10):\n",
    "    y_c = np.where(trn_labels == c)\n",
    "    prob_class.append(1.0*len(y_c[0]) / num_samples)\n",
    "print prob_class"
   ]
  },
  {
   "cell_type": "code",
   "execution_count": null,
   "metadata": {},
   "outputs": [],
   "source": [
    "# Extracting GMM's for each class\n",
    "K = 5\n",
    "\n",
    "pi_all = []\n",
    "S_all = []\n",
    "mu_all = []\n",
    "\n",
    "for c in range(10):\n",
    "    print \"-\"*20\n",
    "    print \" \"*5, c\n",
    "    print \"-\"*20\n",
    "    mu_c, S_c, pi_c = GMM(X_train_class[c], K)\n",
    "    mu_all.append(mu_c)\n",
    "    S_all.append(S_c)\n",
    "    pi_all.append(pi_c)"
   ]
  },
  {
   "cell_type": "code",
   "execution_count": null,
   "metadata": {},
   "outputs": [],
   "source": [
    "# Testing\n",
    "number_of_tests = 10000\n",
    "correct = 0\n",
    "K = 5\n",
    "from scipy.stats import multivariate_normal\n",
    "gaussian = np.zeros(10)\n",
    "prediction_prob = np.zeros(10)\n",
    "\n",
    "for i in range(number_of_tests):\n",
    "    if i%100 == 0:\n",
    "        print i\n",
    "    # for each class\n",
    "    for c in range(10):\n",
    "        # for each gaussian multivariate in GMM\n",
    "        for k in range(K):\n",
    "            # find gaussian multivariate\n",
    "            gaussian[k] = pi_all[c][k]*multivariate_normal.pdf(test_data[i], mean=mu_all[c][k], cov=np.diagflat(S_all[c][k]))\n",
    "        prediction_prob[c] = np.sum(gaussian)*(prob_class[c])\n",
    "    prediction = np.argmax(prediction_prob)\n",
    "    if (prediction == test_labels[i]):\n",
    "        correct+=1\n",
    "print \"Percent correct:\", 1.0*correct / number_of_tests\n",
    "    \n",
    "    \n",
    "    "
   ]
  },
  {
   "cell_type": "code",
   "execution_count": null,
   "metadata": {},
   "outputs": [],
   "source": []
  }
 ],
 "metadata": {
  "kernelspec": {
   "display_name": "Python 2",
   "language": "python",
   "name": "python2"
  },
  "language_info": {
   "codemirror_mode": {
    "name": "ipython",
    "version": 2
   },
   "file_extension": ".py",
   "mimetype": "text/x-python",
   "name": "python",
   "nbconvert_exporter": "python",
   "pygments_lexer": "ipython2",
   "version": "2.7.13"
  }
 },
 "nbformat": 4,
 "nbformat_minor": 2
}
